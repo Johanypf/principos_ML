{
 "cells": [
  {
   "cell_type": "markdown",
   "metadata": {
    "deletable": false,
    "editable": false,
    "nbgrader": {
     "cell_type": "markdown",
     "checksum": "521824b63bd245a2f372b94d4f61c8b3",
     "grade": false,
     "grade_id": "cell-b6117b3e2444bb97",
     "locked": true,
     "schema_version": 3,
     "solution": false,
     "task": false
    }
   },
   "source": [
    "# Un problema de regresión Ridge\n",
    "\n",
    "En este taller estudiarás conceptos mostrados en el tutorial \"Solución de problemas con regresión Ridge\", utilizando el conjunto de datos de popularidad de canciones. Particularmente, realizarás los siguientes procesos:\n",
    "\n",
    "1. Cargar un conjunto de datos.\n",
    "2. Preparar los datos para el modelado.\n",
    "4. Realizar una búsqueda de hiperparámetros con regresión Ridge.\n",
    "6. Evaluar el mejor modelo resultante.\n",
    "\n",
    "El problema a resolver es el siguiente: dadas las propiedades acústicas de una canción, predecir su popularidad. Antes de iniciar, importaremos las librerías necesarias:"
   ]
  },
  {
   "cell_type": "code",
   "execution_count": 1,
   "metadata": {
    "deletable": false,
    "editable": false,
    "nbgrader": {
     "cell_type": "code",
     "checksum": "baf69da394efe786904f8c5c62c38458",
     "grade": false,
     "grade_id": "cell-2038b38f850b98a3",
     "locked": true,
     "schema_version": 3,
     "solution": false,
     "task": false
    }
   },
   "outputs": [
    {
     "name": "stdout",
     "output_type": "stream",
     "text": [
      "Versión de Pandas: 2.2.3\n",
      "Versión de Scikit-learn: 1.6.1\n",
      "Versión de Numpy: 1.25.2\n"
     ]
    }
   ],
   "source": [
    "import pandas as pd\n",
    "import numpy as np\n",
    "\n",
    "from sklearn.model_selection import train_test_split, GridSearchCV, KFold\n",
    "from sklearn.preprocessing import StandardScaler\n",
    "from sklearn.linear_model import Ridge\n",
    "from sklearn.metrics import root_mean_squared_error, mean_absolute_error, r2_score\n",
    "\n",
    "from importlib.metadata import version\n",
    "\n",
    "print(f\"Versión de Pandas: {version('pandas')}\")\n",
    "print(f\"Versión de Scikit-learn: {version('scikit-learn')}\")\n",
    "print(f\"Versión de Numpy: {version('numpy')}\")"
   ]
  },
  {
   "cell_type": "markdown",
   "metadata": {
    "deletable": false,
    "editable": false,
    "nbgrader": {
     "cell_type": "markdown",
     "checksum": "296b9d1cdd1fc6d9a19cc42c3f6c7c5a",
     "grade": false,
     "grade_id": "cell-1ccfeb143bc6d440",
     "locked": true,
     "schema_version": 3,
     "solution": false,
     "task": false
    }
   },
   "source": [
    "## 1. Carga de datos\n",
    "\n",
    "Con las librerías importadas, realizaremos la carga del conjunto de datos:\n",
    "\n",
    "### Ejercicio 1.1.\n",
    "\n",
    "Utiliza Pandas para importar el archivo que contiene el conjunto de datos de canciones.\n",
    "\n",
    "* La ruta del archivo .csv es: `./data/song_data.csv`, y ya se encuentra en el entorno de Coursera, solo debes importarlo.\n",
    "* La variable resultante debe tener el nombre `data_raw`, que representa el conjunto de datos sin modificar."
   ]
  },
  {
   "cell_type": "code",
   "execution_count": 2,
   "metadata": {
    "deletable": false,
    "nbgrader": {
     "cell_type": "code",
     "checksum": "2ce9f0eff8efbbe562acbd72a27c7716",
     "grade": false,
     "grade_id": "E11",
     "locked": false,
     "schema_version": 3,
     "solution": true,
     "task": false
    }
   },
   "outputs": [],
   "source": [
    "ruta = './data/song_data.csv'\n",
    "# your code here\n",
    "data_raw = pd.read_csv(ruta)"
   ]
  },
  {
   "cell_type": "code",
   "execution_count": 3,
   "metadata": {
    "deletable": false,
    "editable": false,
    "nbgrader": {
     "cell_type": "code",
     "checksum": "bed37945a7c4882e5c15546f16b21fb3",
     "grade": true,
     "grade_id": "E11-tests",
     "locked": true,
     "points": 1,
     "schema_version": 3,
     "solution": false,
     "task": false
    }
   },
   "outputs": [
    {
     "name": "stdout",
     "output_type": "stream",
     "text": [
      "¡Los datos tienen las dimensiones correctas!\n"
     ]
    }
   ],
   "source": [
    "#---------- Celda de Pruebas ----------\n",
    "# El resultado existe\n",
    "# El resultado es un DataFrame\n",
    "# El resultado tiene las dimensiones correctas\n",
    "#--------------------------------------\n",
    "\n",
    "# Se verifica que la variable exista\n",
    "assert data_raw is not None, \"Asegúrate de definir la variable /`data_raw/` igualándola a una función de Pandas para leer el archivo.\"\n",
    "\n",
    "# Se verifica que sea un DataFrame\n",
    "assert isinstance(data_raw, pd.DataFrame), \"El resultado debe ser un DataFrame.\"\n",
    "\n",
    "# Se evalúan las dimensiones de la variable data\n",
    "assert data_raw.shape == (18835,15), \"¿Verificaste que la ruta del archivo CSV y el nombre de la variable son correctos?\"\n",
    "print(\"¡Los datos tienen las dimensiones correctas!\")"
   ]
  },
  {
   "cell_type": "markdown",
   "metadata": {
    "deletable": false,
    "editable": false,
    "nbgrader": {
     "cell_type": "markdown",
     "checksum": "370dfa9f217223b9fba89af0e13f5490",
     "grade": false,
     "grade_id": "cell-2f43b75756bbeaca",
     "locked": true,
     "schema_version": 3,
     "solution": false,
     "task": false
    }
   },
   "source": [
    "## 2. Preparación de los datos\n",
    "\n",
    "Utilizaremos la variable `data` para almacenar un conjunto de datos modificado. Recuerda que usarás esta variable para definir los conjuntos de entrenamiento y pruebas:"
   ]
  },
  {
   "cell_type": "code",
   "execution_count": 4,
   "metadata": {
    "deletable": false,
    "editable": false,
    "nbgrader": {
     "cell_type": "code",
     "checksum": "406276e41b5a843a504ae1eac410395b",
     "grade": false,
     "grade_id": "cell-207710f48aed2472",
     "locked": true,
     "schema_version": 3,
     "solution": false,
     "task": false
    }
   },
   "outputs": [],
   "source": [
    "data = data_raw.copy()"
   ]
  },
  {
   "cell_type": "markdown",
   "metadata": {
    "deletable": false,
    "editable": false,
    "nbgrader": {
     "cell_type": "markdown",
     "checksum": "18a531e12bc8aeb750d795bb3f07dd5e",
     "grade": false,
     "grade_id": "cell-7ecba756e3de1897",
     "locked": true,
     "schema_version": 3,
     "solution": false,
     "task": false
    }
   },
   "source": [
    "Es conveniente eliminar los datos duplicados, por lo que utilizaremos la función `drop_duplicates()`:"
   ]
  },
  {
   "cell_type": "code",
   "execution_count": 5,
   "metadata": {
    "deletable": false,
    "editable": false,
    "nbgrader": {
     "cell_type": "code",
     "checksum": "842efbc027fe3849d0670a4bb07ba807",
     "grade": false,
     "grade_id": "cell-11cdad06c6c327b9",
     "locked": true,
     "schema_version": 3,
     "solution": false,
     "task": false
    }
   },
   "outputs": [],
   "source": [
    "data = data.drop_duplicates()"
   ]
  },
  {
   "cell_type": "markdown",
   "metadata": {
    "deletable": false,
    "editable": false,
    "nbgrader": {
     "cell_type": "markdown",
     "checksum": "b95666b7a05862d9693beafbb43a9e1a",
     "grade": false,
     "grade_id": "cell-0ae390e512122efa",
     "locked": true,
     "schema_version": 3,
     "solution": false,
     "task": false
    }
   },
   "source": [
    "Ahora eliminaremos la columna `song_name` de la variable `data`:"
   ]
  },
  {
   "cell_type": "code",
   "execution_count": 6,
   "metadata": {
    "deletable": false,
    "editable": false,
    "nbgrader": {
     "cell_type": "code",
     "checksum": "85d369213d78e7782b3fc7c208ce973f",
     "grade": false,
     "grade_id": "cell-0a7c92befe05616b",
     "locked": true,
     "schema_version": 3,
     "solution": false,
     "task": false
    }
   },
   "outputs": [],
   "source": [
    "data = data.drop(['song_name'], axis=1)"
   ]
  },
  {
   "cell_type": "markdown",
   "metadata": {
    "deletable": false,
    "editable": false,
    "nbgrader": {
     "cell_type": "markdown",
     "checksum": "d611fbb711eace7ab3aa66b6fe8c70bb",
     "grade": false,
     "grade_id": "cell-974e7781d9eb2844",
     "locked": true,
     "schema_version": 3,
     "solution": false,
     "task": false
    }
   },
   "source": [
    "Y observaremos el resultado con `data.head()`:"
   ]
  },
  {
   "cell_type": "code",
   "execution_count": 7,
   "metadata": {
    "deletable": false,
    "editable": false,
    "nbgrader": {
     "cell_type": "code",
     "checksum": "485e222a1751a13c9d9a997074980677",
     "grade": false,
     "grade_id": "cell-f6af8089b9043ecd",
     "locked": true,
     "schema_version": 3,
     "solution": false,
     "task": false
    }
   },
   "outputs": [
    {
     "data": {
      "text/html": [
       "<div>\n",
       "<style scoped>\n",
       "    .dataframe tbody tr th:only-of-type {\n",
       "        vertical-align: middle;\n",
       "    }\n",
       "\n",
       "    .dataframe tbody tr th {\n",
       "        vertical-align: top;\n",
       "    }\n",
       "\n",
       "    .dataframe thead th {\n",
       "        text-align: right;\n",
       "    }\n",
       "</style>\n",
       "<table border=\"1\" class=\"dataframe\">\n",
       "  <thead>\n",
       "    <tr style=\"text-align: right;\">\n",
       "      <th></th>\n",
       "      <th>song_popularity</th>\n",
       "      <th>song_duration_ms</th>\n",
       "      <th>acousticness</th>\n",
       "      <th>danceability</th>\n",
       "      <th>energy</th>\n",
       "      <th>instrumentalness</th>\n",
       "      <th>key</th>\n",
       "      <th>liveness</th>\n",
       "      <th>loudness</th>\n",
       "      <th>audio_mode</th>\n",
       "      <th>speechiness</th>\n",
       "      <th>tempo</th>\n",
       "      <th>time_signature</th>\n",
       "      <th>audio_valence</th>\n",
       "    </tr>\n",
       "  </thead>\n",
       "  <tbody>\n",
       "    <tr>\n",
       "      <th>0</th>\n",
       "      <td>73</td>\n",
       "      <td>262333</td>\n",
       "      <td>0.005520</td>\n",
       "      <td>0.496</td>\n",
       "      <td>0.682</td>\n",
       "      <td>0.000029</td>\n",
       "      <td>8</td>\n",
       "      <td>0.0589</td>\n",
       "      <td>-4.095</td>\n",
       "      <td>1</td>\n",
       "      <td>0.0294</td>\n",
       "      <td>167.060</td>\n",
       "      <td>4</td>\n",
       "      <td>0.474</td>\n",
       "    </tr>\n",
       "    <tr>\n",
       "      <th>1</th>\n",
       "      <td>66</td>\n",
       "      <td>216933</td>\n",
       "      <td>0.010300</td>\n",
       "      <td>0.542</td>\n",
       "      <td>0.853</td>\n",
       "      <td>0.000000</td>\n",
       "      <td>3</td>\n",
       "      <td>0.1080</td>\n",
       "      <td>-6.407</td>\n",
       "      <td>0</td>\n",
       "      <td>0.0498</td>\n",
       "      <td>105.256</td>\n",
       "      <td>4</td>\n",
       "      <td>0.370</td>\n",
       "    </tr>\n",
       "    <tr>\n",
       "      <th>2</th>\n",
       "      <td>76</td>\n",
       "      <td>231733</td>\n",
       "      <td>0.008170</td>\n",
       "      <td>0.737</td>\n",
       "      <td>0.463</td>\n",
       "      <td>0.447000</td>\n",
       "      <td>0</td>\n",
       "      <td>0.2550</td>\n",
       "      <td>-7.828</td>\n",
       "      <td>1</td>\n",
       "      <td>0.0792</td>\n",
       "      <td>123.881</td>\n",
       "      <td>4</td>\n",
       "      <td>0.324</td>\n",
       "    </tr>\n",
       "    <tr>\n",
       "      <th>3</th>\n",
       "      <td>74</td>\n",
       "      <td>216933</td>\n",
       "      <td>0.026400</td>\n",
       "      <td>0.451</td>\n",
       "      <td>0.970</td>\n",
       "      <td>0.003550</td>\n",
       "      <td>0</td>\n",
       "      <td>0.1020</td>\n",
       "      <td>-4.938</td>\n",
       "      <td>1</td>\n",
       "      <td>0.1070</td>\n",
       "      <td>122.444</td>\n",
       "      <td>4</td>\n",
       "      <td>0.198</td>\n",
       "    </tr>\n",
       "    <tr>\n",
       "      <th>4</th>\n",
       "      <td>56</td>\n",
       "      <td>223826</td>\n",
       "      <td>0.000954</td>\n",
       "      <td>0.447</td>\n",
       "      <td>0.766</td>\n",
       "      <td>0.000000</td>\n",
       "      <td>10</td>\n",
       "      <td>0.1130</td>\n",
       "      <td>-5.065</td>\n",
       "      <td>1</td>\n",
       "      <td>0.0313</td>\n",
       "      <td>172.011</td>\n",
       "      <td>4</td>\n",
       "      <td>0.574</td>\n",
       "    </tr>\n",
       "  </tbody>\n",
       "</table>\n",
       "</div>"
      ],
      "text/plain": [
       "   song_popularity  song_duration_ms  acousticness  danceability  energy  \\\n",
       "0               73            262333      0.005520         0.496   0.682   \n",
       "1               66            216933      0.010300         0.542   0.853   \n",
       "2               76            231733      0.008170         0.737   0.463   \n",
       "3               74            216933      0.026400         0.451   0.970   \n",
       "4               56            223826      0.000954         0.447   0.766   \n",
       "\n",
       "   instrumentalness  key  liveness  loudness  audio_mode  speechiness  \\\n",
       "0          0.000029    8    0.0589    -4.095           1       0.0294   \n",
       "1          0.000000    3    0.1080    -6.407           0       0.0498   \n",
       "2          0.447000    0    0.2550    -7.828           1       0.0792   \n",
       "3          0.003550    0    0.1020    -4.938           1       0.1070   \n",
       "4          0.000000   10    0.1130    -5.065           1       0.0313   \n",
       "\n",
       "     tempo  time_signature  audio_valence  \n",
       "0  167.060               4          0.474  \n",
       "1  105.256               4          0.370  \n",
       "2  123.881               4          0.324  \n",
       "3  122.444               4          0.198  \n",
       "4  172.011               4          0.574  "
      ]
     },
     "execution_count": 7,
     "metadata": {},
     "output_type": "execute_result"
    }
   ],
   "source": [
    "data.head()"
   ]
  },
  {
   "cell_type": "markdown",
   "metadata": {
    "deletable": false,
    "editable": false,
    "nbgrader": {
     "cell_type": "markdown",
     "checksum": "29d4230e76b16969f8776d7b86d215b9",
     "grade": false,
     "grade_id": "cell-7ee545189d16e00e",
     "locked": true,
     "schema_version": 3,
     "solution": false,
     "task": false
    }
   },
   "source": [
    "### Ejercicio 2.1.\n",
    "\n",
    "Inicialmente, tenemos que dividir el conjunto de datos en entrenamiento y pruebas. Usando el 80% de los datos para entrenar el modelo y el 20% restante para probarlo, utiliza `scikit-learn` para separar el conjunto de datos en dos.\n",
    "\n",
    "* Guarda tu respuesta en dos variables: `train` y `test`. (**Ejemplo: `train, test = <<Función>>`**)\n",
    "* Utiliza el parámetro `random_state=0`. Esto hará que la partición sea siempre la misma.\n",
    "* Encontrarás la línea `train.head()`. Esta línea se usa para que puedas visualizar el resultado del conjunto de entrenamiento. Déjala al final de la celda y no la modifiques."
   ]
  },
  {
   "cell_type": "code",
   "execution_count": 8,
   "metadata": {
    "deletable": false,
    "nbgrader": {
     "cell_type": "code",
     "checksum": "5ccc2d4187297e9e218b45f9fcb57df3",
     "grade": false,
     "grade_id": "E21",
     "locked": false,
     "schema_version": 3,
     "solution": true,
     "task": false
    }
   },
   "outputs": [
    {
     "data": {
      "text/html": [
       "<div>\n",
       "<style scoped>\n",
       "    .dataframe tbody tr th:only-of-type {\n",
       "        vertical-align: middle;\n",
       "    }\n",
       "\n",
       "    .dataframe tbody tr th {\n",
       "        vertical-align: top;\n",
       "    }\n",
       "\n",
       "    .dataframe thead th {\n",
       "        text-align: right;\n",
       "    }\n",
       "</style>\n",
       "<table border=\"1\" class=\"dataframe\">\n",
       "  <thead>\n",
       "    <tr style=\"text-align: right;\">\n",
       "      <th></th>\n",
       "      <th>song_popularity</th>\n",
       "      <th>song_duration_ms</th>\n",
       "      <th>acousticness</th>\n",
       "      <th>danceability</th>\n",
       "      <th>energy</th>\n",
       "      <th>instrumentalness</th>\n",
       "      <th>key</th>\n",
       "      <th>liveness</th>\n",
       "      <th>loudness</th>\n",
       "      <th>audio_mode</th>\n",
       "      <th>speechiness</th>\n",
       "      <th>tempo</th>\n",
       "      <th>time_signature</th>\n",
       "      <th>audio_valence</th>\n",
       "    </tr>\n",
       "  </thead>\n",
       "  <tbody>\n",
       "    <tr>\n",
       "      <th>1154</th>\n",
       "      <td>68</td>\n",
       "      <td>214880</td>\n",
       "      <td>0.00818</td>\n",
       "      <td>0.527</td>\n",
       "      <td>0.941</td>\n",
       "      <td>0.000002</td>\n",
       "      <td>6</td>\n",
       "      <td>0.3970</td>\n",
       "      <td>-3.376</td>\n",
       "      <td>1</td>\n",
       "      <td>0.0551</td>\n",
       "      <td>94.056</td>\n",
       "      <td>4</td>\n",
       "      <td>0.440</td>\n",
       "    </tr>\n",
       "    <tr>\n",
       "      <th>13027</th>\n",
       "      <td>59</td>\n",
       "      <td>237080</td>\n",
       "      <td>0.07750</td>\n",
       "      <td>0.658</td>\n",
       "      <td>0.862</td>\n",
       "      <td>0.000000</td>\n",
       "      <td>6</td>\n",
       "      <td>0.1230</td>\n",
       "      <td>-5.992</td>\n",
       "      <td>0</td>\n",
       "      <td>0.0445</td>\n",
       "      <td>149.980</td>\n",
       "      <td>4</td>\n",
       "      <td>0.825</td>\n",
       "    </tr>\n",
       "    <tr>\n",
       "      <th>13150</th>\n",
       "      <td>33</td>\n",
       "      <td>213211</td>\n",
       "      <td>0.06630</td>\n",
       "      <td>0.813</td>\n",
       "      <td>0.777</td>\n",
       "      <td>0.042100</td>\n",
       "      <td>5</td>\n",
       "      <td>0.0785</td>\n",
       "      <td>-4.355</td>\n",
       "      <td>0</td>\n",
       "      <td>0.0828</td>\n",
       "      <td>125.065</td>\n",
       "      <td>4</td>\n",
       "      <td>0.579</td>\n",
       "    </tr>\n",
       "    <tr>\n",
       "      <th>11215</th>\n",
       "      <td>46</td>\n",
       "      <td>269096</td>\n",
       "      <td>0.97200</td>\n",
       "      <td>0.492</td>\n",
       "      <td>0.240</td>\n",
       "      <td>0.141000</td>\n",
       "      <td>11</td>\n",
       "      <td>0.0736</td>\n",
       "      <td>-13.386</td>\n",
       "      <td>1</td>\n",
       "      <td>0.0397</td>\n",
       "      <td>85.490</td>\n",
       "      <td>3</td>\n",
       "      <td>0.279</td>\n",
       "    </tr>\n",
       "    <tr>\n",
       "      <th>13523</th>\n",
       "      <td>56</td>\n",
       "      <td>189500</td>\n",
       "      <td>0.45800</td>\n",
       "      <td>0.773</td>\n",
       "      <td>0.725</td>\n",
       "      <td>0.000000</td>\n",
       "      <td>8</td>\n",
       "      <td>0.0935</td>\n",
       "      <td>-5.614</td>\n",
       "      <td>1</td>\n",
       "      <td>0.0344</td>\n",
       "      <td>99.018</td>\n",
       "      <td>4</td>\n",
       "      <td>0.769</td>\n",
       "    </tr>\n",
       "  </tbody>\n",
       "</table>\n",
       "</div>"
      ],
      "text/plain": [
       "       song_popularity  song_duration_ms  acousticness  danceability  energy  \\\n",
       "1154                68            214880       0.00818         0.527   0.941   \n",
       "13027               59            237080       0.07750         0.658   0.862   \n",
       "13150               33            213211       0.06630         0.813   0.777   \n",
       "11215               46            269096       0.97200         0.492   0.240   \n",
       "13523               56            189500       0.45800         0.773   0.725   \n",
       "\n",
       "       instrumentalness  key  liveness  loudness  audio_mode  speechiness  \\\n",
       "1154           0.000002    6    0.3970    -3.376           1       0.0551   \n",
       "13027          0.000000    6    0.1230    -5.992           0       0.0445   \n",
       "13150          0.042100    5    0.0785    -4.355           0       0.0828   \n",
       "11215          0.141000   11    0.0736   -13.386           1       0.0397   \n",
       "13523          0.000000    8    0.0935    -5.614           1       0.0344   \n",
       "\n",
       "         tempo  time_signature  audio_valence  \n",
       "1154    94.056               4          0.440  \n",
       "13027  149.980               4          0.825  \n",
       "13150  125.065               4          0.579  \n",
       "11215   85.490               3          0.279  \n",
       "13523   99.018               4          0.769  "
      ]
     },
     "execution_count": 8,
     "metadata": {},
     "output_type": "execute_result"
    }
   ],
   "source": [
    "# your code here\n",
    "train , test = train_test_split(data, test_size = 0.2 , random_state= 0)\n",
    "train.head()"
   ]
  },
  {
   "cell_type": "code",
   "execution_count": 9,
   "metadata": {
    "deletable": false,
    "editable": false,
    "nbgrader": {
     "cell_type": "code",
     "checksum": "1f18994d601f14c9cb4bdc92aa322372",
     "grade": true,
     "grade_id": "E21-tests",
     "locked": true,
     "points": 1,
     "schema_version": 3,
     "solution": false,
     "task": false
    }
   },
   "outputs": [
    {
     "name": "stdout",
     "output_type": "stream",
     "text": [
      "¡Los conjuntos de entrenamiento y pruebas tienen las dimensiones correctas!\n"
     ]
    }
   ],
   "source": [
    "#---------- Celda de Pruebas ----------\n",
    "# Las variables \"train\" y \"test\" existen\n",
    "# Las variables \"train\" y \"test\" son un DataFrame\n",
    "# Las variables tienen las dimensiones correctas\n",
    "#--------------------------------------\n",
    "\n",
    "# Se verifica que \"train\" y \"test\" están definidas\n",
    "assert train is not None, \"Asegúrate de definir la variable \\'train\\' con el nombre correcto.\"\n",
    "assert test is not None, \"Asegúrate de definir la variable \\'test\\' con el nombre correcto.\"\n",
    "\n",
    "# Se verifica que \"train\" y \"test\" sean un DataFrame\n",
    "assert isinstance(train, pd.DataFrame), \"La variable \\'train\\' debe ser un DataFrame.\"\n",
    "assert isinstance(test, pd.DataFrame), \"La variable \\'test\\' debe ser un DataFrame.\"\n",
    "\n",
    "# Se evalúan las dimensiones de las variables\n",
    "assert train.shape == (11940,14), \"Verifica que estés utilizando el 80% de los datos para el conjunto de entrenamiento.\"\n",
    "assert test.shape == (2986,14), \"Verifica que estés utilizando el 20% de los datos para el conjunto de pruebas.\"\n",
    "print(\"¡Los conjuntos de entrenamiento y pruebas tienen las dimensiones correctas!\")"
   ]
  },
  {
   "cell_type": "markdown",
   "metadata": {
    "deletable": false,
    "editable": false,
    "nbgrader": {
     "cell_type": "markdown",
     "checksum": "2e65ed61bcee042aa638933aa368c3de",
     "grade": false,
     "grade_id": "cell-36f0dffea212c8c8",
     "locked": true,
     "schema_version": 3,
     "solution": false,
     "task": false
    }
   },
   "source": [
    "### Ejercicio 2.2.\n",
    "\n",
    "Ahora debes aislar la variable objetivo, `song_popularity`, de las variables independientes. Utiliza Pandas para crear dos variables, `x_train` y `y_train`, que almacenarán las variables independientes y la variable objetivo, respectivamente.\n",
    "\n",
    "* Crea una variable con nombre `x_train` y asígnale la operación necesaria para almacenar solo las variables independientes del conjunto de entrenamiento. (**Ejemplo: `x_train = train.<<Función>>`**)\n",
    "* Crea una variable con nombre `y_train` y asígnale la operación necesaria para almacenar la variable objetivo del conjunto de entrenamiento. (**Ejemplo: `y_train = <<Consulta>>`**)"
   ]
  },
  {
   "cell_type": "code",
   "execution_count": 10,
   "metadata": {
    "deletable": false,
    "nbgrader": {
     "cell_type": "code",
     "checksum": "e96c3f51419d6939313aac4931bc72d6",
     "grade": false,
     "grade_id": "E22",
     "locked": false,
     "schema_version": 3,
     "solution": true,
     "task": false
    }
   },
   "outputs": [],
   "source": [
    "# your code here\n",
    "x_train =  train.drop([\"song_popularity\"], axis = \"columns\")\n",
    "y_train =  train[\"song_popularity\"]\n"
   ]
  },
  {
   "cell_type": "code",
   "execution_count": 11,
   "metadata": {
    "deletable": false,
    "editable": false,
    "nbgrader": {
     "cell_type": "code",
     "checksum": "06d6f75ab5a8a15f75bbd96be2e64232",
     "grade": true,
     "grade_id": "E22-tests",
     "locked": true,
     "points": 1,
     "schema_version": 3,
     "solution": false,
     "task": false
    }
   },
   "outputs": [
    {
     "name": "stdout",
     "output_type": "stream",
     "text": [
      "¡Los conjuntos 'x_train' y 'y_train' tienen las dimensiones correctas!\n"
     ]
    }
   ],
   "source": [
    "#---------- Celda de Pruebas ----------\n",
    "# Las variables \"x_train\" y \"y_train\" existen\n",
    "# La variable \"x_train\" es un DataFrame\n",
    "# La variable \"y_train\" es una Serie de Pandas\n",
    "# Las variables tienen las dimensiones correctas\n",
    "#--------------------------------------\n",
    "\n",
    "# Se verifica que las variables están definidas\n",
    "assert x_train is not None, \"Asegúrate de definir la variable \\'x_train\\' correctamente.\"\n",
    "assert y_train is not None, \"Asegúrate de definir la variable \\'y_train\\' correctamente.\"\n",
    "\n",
    "# Se verifica que \"x_train\" sea un DataFrame\n",
    "assert isinstance(x_train, pd.DataFrame), \"El resultado debe ser un DataFrame.\"\n",
    "\n",
    "# Se verifica que \"y_train\" sea una Serie\n",
    "assert isinstance(y_train, pd.Series), \"El resultado debe ser una Serie de Pandas.\"\n",
    "\n",
    "# Se evalúan las dimensiones de las variables\n",
    "assert x_train.shape == (11940,13), \"\\'x_train\\' debe tener el mismo número de filas pero una columna menos que \\'train\\'.\"\n",
    "assert y_train.shape == (11940,), \"\\'y_train\\' solamente contiene una columna.\"\n",
    "print(\"¡Los conjuntos \\'x_train\\' y \\'y_train\\' tienen las dimensiones correctas!\")"
   ]
  },
  {
   "cell_type": "markdown",
   "metadata": {
    "deletable": false,
    "editable": false,
    "nbgrader": {
     "cell_type": "markdown",
     "checksum": "4837647192e1d2cd0522a3533c0bc978",
     "grade": false,
     "grade_id": "cell-3d69794d1dddb6bc",
     "locked": true,
     "schema_version": 3,
     "solution": false,
     "task": false
    }
   },
   "source": [
    "### Ejercicio 2.3.\n",
    "\n",
    "El siguiente paso es realizar la estandarización de nuestros datos. Inicialmente, vamos a almacenar los nombres de las columnas del conjunto de entrenamiento en la variable `columns`:"
   ]
  },
  {
   "cell_type": "code",
   "execution_count": 12,
   "metadata": {
    "deletable": false,
    "editable": false,
    "nbgrader": {
     "cell_type": "code",
     "checksum": "f756fb0b0293a86f73f98755fa96547b",
     "grade": false,
     "grade_id": "cell-1ed4beb35c553bd0",
     "locked": true,
     "schema_version": 3,
     "solution": false,
     "task": false
    }
   },
   "outputs": [],
   "source": [
    "columns = x_train.columns"
   ]
  },
  {
   "cell_type": "markdown",
   "metadata": {
    "deletable": false,
    "editable": false,
    "nbgrader": {
     "cell_type": "markdown",
     "checksum": "fd51a4174cc436b0bf79acffe5d42620",
     "grade": false,
     "grade_id": "cell-85432f8e56306a9d",
     "locked": true,
     "schema_version": 3,
     "solution": false,
     "task": false
    }
   },
   "source": [
    "Adicionalmente, definiremos un objeto de la clase `StandardScaler()`, que utilizarás para realizar la estandarización:"
   ]
  },
  {
   "cell_type": "code",
   "execution_count": 13,
   "metadata": {
    "deletable": false,
    "editable": false,
    "nbgrader": {
     "cell_type": "code",
     "checksum": "df50891ccde51876afa2c59c33dc99bf",
     "grade": false,
     "grade_id": "cell-1bdb39938cad506a",
     "locked": true,
     "schema_version": 3,
     "solution": false,
     "task": false
    }
   },
   "outputs": [],
   "source": [
    "scaler = StandardScaler()"
   ]
  },
  {
   "cell_type": "markdown",
   "metadata": {
    "deletable": false,
    "editable": false,
    "nbgrader": {
     "cell_type": "markdown",
     "checksum": "545879b41c3400933cdce16fcb32a6fb",
     "grade": false,
     "grade_id": "cell-fb4b312e083a0ed9",
     "locked": true,
     "schema_version": 3,
     "solution": false,
     "task": false
    }
   },
   "source": [
    "Con las variables definidas, realiza la estandarización de los datos. Modifica el conjunto de variables independientes, `x_train`, con las operaciones necesarias para estandarizarlo. Particularmente, deberás seguir estos pasos:\n",
    "\n",
    "* Utiliza la variable `scaler` para transformar los datos de `x_train`. Asigna el resultado a la misma variable, sobreescribiendo su contenido. (**Ejemplo: `x_train = scaler.<<Función>>`**)\n",
    "* Reconstruye el DataFrame de variables independientes utilizando la información almacenada en `columns`. Asigna el resultado a `x_train`. (**Ejemplo: `x_train = <<Función>>`**)"
   ]
  },
  {
   "cell_type": "code",
   "execution_count": 14,
   "metadata": {
    "deletable": false,
    "nbgrader": {
     "cell_type": "code",
     "checksum": "dfdf5b393180afa58e8a1ac3cc78285b",
     "grade": false,
     "grade_id": "E23",
     "locked": false,
     "schema_version": 3,
     "solution": true,
     "task": false
    }
   },
   "outputs": [],
   "source": [
    "# your code here\n",
    "x_train = scaler.fit_transform(x_train)\n",
    "x_train = pd.DataFrame(x_train, columns = columns)"
   ]
  },
  {
   "cell_type": "code",
   "execution_count": 15,
   "metadata": {
    "deletable": false,
    "editable": false,
    "nbgrader": {
     "cell_type": "code",
     "checksum": "9db02cf6a97dd55063ce4d3d2a0fc11d",
     "grade": true,
     "grade_id": "E23-tests",
     "locked": true,
     "points": 1,
     "schema_version": 3,
     "solution": false,
     "task": false
    }
   },
   "outputs": [
    {
     "name": "stdout",
     "output_type": "stream",
     "text": [
      "¡'x_train' es un DataFrame con las dimensiones correctas!\n"
     ]
    }
   ],
   "source": [
    "#---------- Celda de Pruebas ----------\n",
    "# La variable \"x_train\" es un DataFrame\n",
    "# La variable tiene las dimensiones correctas\n",
    "#--------------------------------------\n",
    "\n",
    "# Se verifica que \"x_train\" sea un DataFrame\n",
    "assert isinstance(x_train, pd.DataFrame), \"El resultado debe ser un DataFrame.\"\n",
    "\n",
    "# Se evalúan las dimensiones de la variable\n",
    "assert x_train.shape == (11940,13), \"\\'x_train\\' debe mantener las mismas dimensiones, solo se modifican sus valores.\"\n",
    "print(\"¡\\'x_train\\' es un DataFrame con las dimensiones correctas!\")"
   ]
  },
  {
   "cell_type": "markdown",
   "metadata": {
    "deletable": false,
    "editable": false,
    "nbgrader": {
     "cell_type": "markdown",
     "checksum": "d2c43b04434dfe38f71283d10d1a9b7e",
     "grade": false,
     "grade_id": "cell-68c53e718e08af31",
     "locked": true,
     "schema_version": 3,
     "solution": false,
     "task": false
    }
   },
   "source": [
    "Es conveniente visualizar los nuevos valores del conjunto de entrenamiento en una nueva celda, antes de realizar la búsqueda de hiperparámetros. "
   ]
  },
  {
   "cell_type": "markdown",
   "metadata": {
    "deletable": false,
    "editable": false,
    "nbgrader": {
     "cell_type": "markdown",
     "checksum": "74195fdd89b8fd06a36efcd6771ff75f",
     "grade": false,
     "grade_id": "cell-e52d2d491afd2ee5",
     "locked": true,
     "schema_version": 3,
     "solution": false,
     "task": false
    }
   },
   "source": [
    "## 3. Búsqueda de hiperparámetros y entrenamiento del modelo\n",
    "\n",
    "Con el conjunto de entrenamiento modificado, empezaremos con la definición de nuestro modelo. Lo primero que haremos es hacer una búsqueda del mejor hiperparámetro `alpha`. Para esto utilizaremos un objeto de la clase `KFold`, con el que definiremos 10 subconjuntos sobre el conjunto de entrenamiento:"
   ]
  },
  {
   "cell_type": "code",
   "execution_count": 16,
   "metadata": {
    "deletable": false,
    "editable": false,
    "nbgrader": {
     "cell_type": "code",
     "checksum": "8a8bdb934458e449108c15bc71779829",
     "grade": false,
     "grade_id": "cell-e260fa892429cab7",
     "locked": true,
     "schema_version": 3,
     "solution": false,
     "task": false
    }
   },
   "outputs": [],
   "source": [
    "kfold = KFold(n_splits=10, shuffle=True, random_state = 0)"
   ]
  },
  {
   "cell_type": "markdown",
   "metadata": {
    "deletable": false,
    "editable": false,
    "nbgrader": {
     "cell_type": "markdown",
     "checksum": "6e640b7c6829ee4bac24034725620d8e",
     "grade": false,
     "grade_id": "cell-d78f31ae5e208d27",
     "locked": true,
     "schema_version": 3,
     "solution": false,
     "task": false
    }
   },
   "source": [
    "Además, definiremos el objeto de la clase `Ridge` para realizar el entrenamiento con regresión regularizada:"
   ]
  },
  {
   "cell_type": "code",
   "execution_count": 17,
   "metadata": {
    "deletable": false,
    "editable": false,
    "nbgrader": {
     "cell_type": "code",
     "checksum": "7ec46409ec2aa9155c06ce3ed2064427",
     "grade": false,
     "grade_id": "cell-8c5d3ffaa9b201d2",
     "locked": true,
     "schema_version": 3,
     "solution": false,
     "task": false
    }
   },
   "outputs": [],
   "source": [
    "ridge = Ridge()"
   ]
  },
  {
   "cell_type": "markdown",
   "metadata": {
    "deletable": false,
    "editable": false,
    "nbgrader": {
     "cell_type": "markdown",
     "checksum": "9e68baaf8be4efc4e078857235cbb8b8",
     "grade": false,
     "grade_id": "cell-e470f07b8ae45959",
     "locked": true,
     "schema_version": 3,
     "solution": false,
     "task": false
    }
   },
   "source": [
    "### Ejercicio 3.1.\n",
    "\n",
    "El siguiente paso es definir el espacio de búsqueda del hiperparámetro. Para esto define un diccionario con una tupla, cuya llave sea `alpha` y su valor sea el arreglo definido en la variable `valores`:\n",
    "\n",
    "* Define una variable con el nombre `param_grid` y asígnale la expresión necesaria para crear un diccionario con los datos necesarios. Puedes utilizar la variable `valores` dentro de la expresión. (**Ejemplo: `param_grid = <<Expresión>>`**)"
   ]
  },
  {
   "cell_type": "code",
   "execution_count": 18,
   "metadata": {
    "deletable": false,
    "nbgrader": {
     "cell_type": "code",
     "checksum": "23878c6fc70d801f122addf525b96de6",
     "grade": false,
     "grade_id": "E31",
     "locked": false,
     "schema_version": 3,
     "solution": true,
     "task": false
    }
   },
   "outputs": [],
   "source": [
    "valores = [1, 2, 5, 10, 15, 20, 100, 500]\n",
    "# your code here\n",
    "\n",
    "param_grid = {\"alpha\":valores}"
   ]
  },
  {
   "cell_type": "code",
   "execution_count": 19,
   "metadata": {
    "deletable": false,
    "editable": false,
    "nbgrader": {
     "cell_type": "code",
     "checksum": "f05d0ce100d09af7d9c35935e25920f0",
     "grade": true,
     "grade_id": "E31-tests",
     "locked": true,
     "points": 1,
     "schema_version": 3,
     "solution": false,
     "task": false
    }
   },
   "outputs": [
    {
     "name": "stdout",
     "output_type": "stream",
     "text": [
      "¡'param_grid' está definida correctamente!\n"
     ]
    }
   ],
   "source": [
    "#---------- Celda de Pruebas ----------\n",
    "# La variable \"param_grid\" existe\n",
    "# La variable \"param_grid\" es un diccionario\n",
    "# La variable tiene la longitud correcta\n",
    "#--------------------------------------\n",
    "\n",
    "# Se verifica que \"param_grid\" está definida\n",
    "assert param_grid is not None, \"Asegúrate de definir la variable \\'param_grid\\' correctamente.\"\n",
    "\n",
    "# Se verifica que \"param_grid\" sea un diccionario\n",
    "assert isinstance(param_grid, dict), \"El resultado debe ser un diccionario de Python, es decir, no necesitas ninguna función específica de ninguna librería para definir la variable.\"\n",
    "\n",
    "# Se evalúa la longitud de la variable\n",
    "assert len(param_grid) == 1, \"\\'param_grid\\' solo debe contener una tupla.\"\n",
    "print(\"¡\\'param_grid\\' está definida correctamente!\")"
   ]
  },
  {
   "cell_type": "markdown",
   "metadata": {
    "deletable": false,
    "editable": false,
    "nbgrader": {
     "cell_type": "markdown",
     "checksum": "a9b828ce448d9c6bcd68e9297944523e",
     "grade": false,
     "grade_id": "cell-9d60a5dedf9ec2f3",
     "locked": true,
     "schema_version": 3,
     "solution": false,
     "task": false
    }
   },
   "source": [
    "### Ejercicio 3.2.\n",
    "\n",
    "Finalmente, el último paso antes de realizar la búsqueda de hiperparámetros es crear el objeto de tipo `GridSearchCV`. Utiliza las variables `ridge`, `param_grid` y `kfold` para definirlo:\n",
    "\n",
    "* Define una variable con el nombre `grid` y asígnale la función necesaria para crear un objeto de la clase `GridSearchCV`. (**Ejemplo: `grid = <<Función>>`**)"
   ]
  },
  {
   "cell_type": "code",
   "execution_count": 20,
   "metadata": {
    "deletable": false,
    "nbgrader": {
     "cell_type": "code",
     "checksum": "334c5e0067a5868725b22e9953edf1ec",
     "grade": false,
     "grade_id": "E32",
     "locked": false,
     "schema_version": 3,
     "solution": true,
     "task": false
    }
   },
   "outputs": [],
   "source": [
    "# your code here\n",
    "grid = GridSearchCV(ridge, param_grid, cv=kfold,n_jobs=-1)\n"
   ]
  },
  {
   "cell_type": "code",
   "execution_count": 21,
   "metadata": {
    "deletable": false,
    "editable": false,
    "nbgrader": {
     "cell_type": "code",
     "checksum": "88e85b48996cdbcb3c02513ffbabf7ee",
     "grade": true,
     "grade_id": "E32-tests",
     "locked": true,
     "points": 1,
     "schema_version": 3,
     "solution": false,
     "task": false
    }
   },
   "outputs": [
    {
     "name": "stdout",
     "output_type": "stream",
     "text": [
      "¡'grid' está definida correctamente!\n"
     ]
    }
   ],
   "source": [
    "#---------- Celda de Pruebas ----------\n",
    "# La variable \"grid\" existe\n",
    "# La variable \"grid\" es un objeto de la clase GridSearchCV\n",
    "#--------------------------------------\n",
    "\n",
    "# Se verifica que \"grid\" está definida\n",
    "assert grid is not None, \"Asegúrate de definir la variable \\'grid\\' correctamente.\"\n",
    "\n",
    "# Se verifica que \"grid\" es un objeto de la clase GridSearchCV\n",
    "assert type(grid) == GridSearchCV, \"La variable \\'grid\\' debe ser un objeto de la clase GridSearchCV.\"\n",
    "print(\"¡\\'grid\\' está definida correctamente!\")"
   ]
  },
  {
   "cell_type": "markdown",
   "metadata": {
    "deletable": false,
    "editable": false,
    "nbgrader": {
     "cell_type": "markdown",
     "checksum": "2931086c11b9f7c67c20b1c545c4996f",
     "grade": false,
     "grade_id": "cell-6a2a0c03d2a88550",
     "locked": true,
     "schema_version": 3,
     "solution": false,
     "task": false
    }
   },
   "source": [
    "### Ejercicio 3.3.\n",
    "\n",
    "A continuación, realiza la búsqueda de hiperparámetros utilizando el conjunto de entrenamiento, compuesto por las variables `x_train` y `y_train`.\n",
    "\n",
    "* Para este ejercicio no debes asignar tu resultado a ninguna variable. Es decir, solo debes ejecutar una función sobre la variable `grid`, utilizando las variables `x_train` y `y_train` como parámetros. (**Ejemplo: `grid.<<Función>>`**)"
   ]
  },
  {
   "cell_type": "code",
   "execution_count": 22,
   "metadata": {
    "deletable": false,
    "nbgrader": {
     "cell_type": "code",
     "checksum": "432e6bbc6e7be336f7583ec401a5d012",
     "grade": false,
     "grade_id": "E33",
     "locked": false,
     "schema_version": 3,
     "solution": true,
     "task": false
    }
   },
   "outputs": [
    {
     "data": {
      "text/html": [
       "<style>#sk-container-id-1 {\n",
       "  /* Definition of color scheme common for light and dark mode */\n",
       "  --sklearn-color-text: #000;\n",
       "  --sklearn-color-text-muted: #666;\n",
       "  --sklearn-color-line: gray;\n",
       "  /* Definition of color scheme for unfitted estimators */\n",
       "  --sklearn-color-unfitted-level-0: #fff5e6;\n",
       "  --sklearn-color-unfitted-level-1: #f6e4d2;\n",
       "  --sklearn-color-unfitted-level-2: #ffe0b3;\n",
       "  --sklearn-color-unfitted-level-3: chocolate;\n",
       "  /* Definition of color scheme for fitted estimators */\n",
       "  --sklearn-color-fitted-level-0: #f0f8ff;\n",
       "  --sklearn-color-fitted-level-1: #d4ebff;\n",
       "  --sklearn-color-fitted-level-2: #b3dbfd;\n",
       "  --sklearn-color-fitted-level-3: cornflowerblue;\n",
       "\n",
       "  /* Specific color for light theme */\n",
       "  --sklearn-color-text-on-default-background: var(--sg-text-color, var(--theme-code-foreground, var(--jp-content-font-color1, black)));\n",
       "  --sklearn-color-background: var(--sg-background-color, var(--theme-background, var(--jp-layout-color0, white)));\n",
       "  --sklearn-color-border-box: var(--sg-text-color, var(--theme-code-foreground, var(--jp-content-font-color1, black)));\n",
       "  --sklearn-color-icon: #696969;\n",
       "\n",
       "  @media (prefers-color-scheme: dark) {\n",
       "    /* Redefinition of color scheme for dark theme */\n",
       "    --sklearn-color-text-on-default-background: var(--sg-text-color, var(--theme-code-foreground, var(--jp-content-font-color1, white)));\n",
       "    --sklearn-color-background: var(--sg-background-color, var(--theme-background, var(--jp-layout-color0, #111)));\n",
       "    --sklearn-color-border-box: var(--sg-text-color, var(--theme-code-foreground, var(--jp-content-font-color1, white)));\n",
       "    --sklearn-color-icon: #878787;\n",
       "  }\n",
       "}\n",
       "\n",
       "#sk-container-id-1 {\n",
       "  color: var(--sklearn-color-text);\n",
       "}\n",
       "\n",
       "#sk-container-id-1 pre {\n",
       "  padding: 0;\n",
       "}\n",
       "\n",
       "#sk-container-id-1 input.sk-hidden--visually {\n",
       "  border: 0;\n",
       "  clip: rect(1px 1px 1px 1px);\n",
       "  clip: rect(1px, 1px, 1px, 1px);\n",
       "  height: 1px;\n",
       "  margin: -1px;\n",
       "  overflow: hidden;\n",
       "  padding: 0;\n",
       "  position: absolute;\n",
       "  width: 1px;\n",
       "}\n",
       "\n",
       "#sk-container-id-1 div.sk-dashed-wrapped {\n",
       "  border: 1px dashed var(--sklearn-color-line);\n",
       "  margin: 0 0.4em 0.5em 0.4em;\n",
       "  box-sizing: border-box;\n",
       "  padding-bottom: 0.4em;\n",
       "  background-color: var(--sklearn-color-background);\n",
       "}\n",
       "\n",
       "#sk-container-id-1 div.sk-container {\n",
       "  /* jupyter's `normalize.less` sets `[hidden] { display: none; }`\n",
       "     but bootstrap.min.css set `[hidden] { display: none !important; }`\n",
       "     so we also need the `!important` here to be able to override the\n",
       "     default hidden behavior on the sphinx rendered scikit-learn.org.\n",
       "     See: https://github.com/scikit-learn/scikit-learn/issues/21755 */\n",
       "  display: inline-block !important;\n",
       "  position: relative;\n",
       "}\n",
       "\n",
       "#sk-container-id-1 div.sk-text-repr-fallback {\n",
       "  display: none;\n",
       "}\n",
       "\n",
       "div.sk-parallel-item,\n",
       "div.sk-serial,\n",
       "div.sk-item {\n",
       "  /* draw centered vertical line to link estimators */\n",
       "  background-image: linear-gradient(var(--sklearn-color-text-on-default-background), var(--sklearn-color-text-on-default-background));\n",
       "  background-size: 2px 100%;\n",
       "  background-repeat: no-repeat;\n",
       "  background-position: center center;\n",
       "}\n",
       "\n",
       "/* Parallel-specific style estimator block */\n",
       "\n",
       "#sk-container-id-1 div.sk-parallel-item::after {\n",
       "  content: \"\";\n",
       "  width: 100%;\n",
       "  border-bottom: 2px solid var(--sklearn-color-text-on-default-background);\n",
       "  flex-grow: 1;\n",
       "}\n",
       "\n",
       "#sk-container-id-1 div.sk-parallel {\n",
       "  display: flex;\n",
       "  align-items: stretch;\n",
       "  justify-content: center;\n",
       "  background-color: var(--sklearn-color-background);\n",
       "  position: relative;\n",
       "}\n",
       "\n",
       "#sk-container-id-1 div.sk-parallel-item {\n",
       "  display: flex;\n",
       "  flex-direction: column;\n",
       "}\n",
       "\n",
       "#sk-container-id-1 div.sk-parallel-item:first-child::after {\n",
       "  align-self: flex-end;\n",
       "  width: 50%;\n",
       "}\n",
       "\n",
       "#sk-container-id-1 div.sk-parallel-item:last-child::after {\n",
       "  align-self: flex-start;\n",
       "  width: 50%;\n",
       "}\n",
       "\n",
       "#sk-container-id-1 div.sk-parallel-item:only-child::after {\n",
       "  width: 0;\n",
       "}\n",
       "\n",
       "/* Serial-specific style estimator block */\n",
       "\n",
       "#sk-container-id-1 div.sk-serial {\n",
       "  display: flex;\n",
       "  flex-direction: column;\n",
       "  align-items: center;\n",
       "  background-color: var(--sklearn-color-background);\n",
       "  padding-right: 1em;\n",
       "  padding-left: 1em;\n",
       "}\n",
       "\n",
       "\n",
       "/* Toggleable style: style used for estimator/Pipeline/ColumnTransformer box that is\n",
       "clickable and can be expanded/collapsed.\n",
       "- Pipeline and ColumnTransformer use this feature and define the default style\n",
       "- Estimators will overwrite some part of the style using the `sk-estimator` class\n",
       "*/\n",
       "\n",
       "/* Pipeline and ColumnTransformer style (default) */\n",
       "\n",
       "#sk-container-id-1 div.sk-toggleable {\n",
       "  /* Default theme specific background. It is overwritten whether we have a\n",
       "  specific estimator or a Pipeline/ColumnTransformer */\n",
       "  background-color: var(--sklearn-color-background);\n",
       "}\n",
       "\n",
       "/* Toggleable label */\n",
       "#sk-container-id-1 label.sk-toggleable__label {\n",
       "  cursor: pointer;\n",
       "  display: flex;\n",
       "  width: 100%;\n",
       "  margin-bottom: 0;\n",
       "  padding: 0.5em;\n",
       "  box-sizing: border-box;\n",
       "  text-align: center;\n",
       "  align-items: start;\n",
       "  justify-content: space-between;\n",
       "  gap: 0.5em;\n",
       "}\n",
       "\n",
       "#sk-container-id-1 label.sk-toggleable__label .caption {\n",
       "  font-size: 0.6rem;\n",
       "  font-weight: lighter;\n",
       "  color: var(--sklearn-color-text-muted);\n",
       "}\n",
       "\n",
       "#sk-container-id-1 label.sk-toggleable__label-arrow:before {\n",
       "  /* Arrow on the left of the label */\n",
       "  content: \"▸\";\n",
       "  float: left;\n",
       "  margin-right: 0.25em;\n",
       "  color: var(--sklearn-color-icon);\n",
       "}\n",
       "\n",
       "#sk-container-id-1 label.sk-toggleable__label-arrow:hover:before {\n",
       "  color: var(--sklearn-color-text);\n",
       "}\n",
       "\n",
       "/* Toggleable content - dropdown */\n",
       "\n",
       "#sk-container-id-1 div.sk-toggleable__content {\n",
       "  max-height: 0;\n",
       "  max-width: 0;\n",
       "  overflow: hidden;\n",
       "  text-align: left;\n",
       "  /* unfitted */\n",
       "  background-color: var(--sklearn-color-unfitted-level-0);\n",
       "}\n",
       "\n",
       "#sk-container-id-1 div.sk-toggleable__content.fitted {\n",
       "  /* fitted */\n",
       "  background-color: var(--sklearn-color-fitted-level-0);\n",
       "}\n",
       "\n",
       "#sk-container-id-1 div.sk-toggleable__content pre {\n",
       "  margin: 0.2em;\n",
       "  border-radius: 0.25em;\n",
       "  color: var(--sklearn-color-text);\n",
       "  /* unfitted */\n",
       "  background-color: var(--sklearn-color-unfitted-level-0);\n",
       "}\n",
       "\n",
       "#sk-container-id-1 div.sk-toggleable__content.fitted pre {\n",
       "  /* unfitted */\n",
       "  background-color: var(--sklearn-color-fitted-level-0);\n",
       "}\n",
       "\n",
       "#sk-container-id-1 input.sk-toggleable__control:checked~div.sk-toggleable__content {\n",
       "  /* Expand drop-down */\n",
       "  max-height: 200px;\n",
       "  max-width: 100%;\n",
       "  overflow: auto;\n",
       "}\n",
       "\n",
       "#sk-container-id-1 input.sk-toggleable__control:checked~label.sk-toggleable__label-arrow:before {\n",
       "  content: \"▾\";\n",
       "}\n",
       "\n",
       "/* Pipeline/ColumnTransformer-specific style */\n",
       "\n",
       "#sk-container-id-1 div.sk-label input.sk-toggleable__control:checked~label.sk-toggleable__label {\n",
       "  color: var(--sklearn-color-text);\n",
       "  background-color: var(--sklearn-color-unfitted-level-2);\n",
       "}\n",
       "\n",
       "#sk-container-id-1 div.sk-label.fitted input.sk-toggleable__control:checked~label.sk-toggleable__label {\n",
       "  background-color: var(--sklearn-color-fitted-level-2);\n",
       "}\n",
       "\n",
       "/* Estimator-specific style */\n",
       "\n",
       "/* Colorize estimator box */\n",
       "#sk-container-id-1 div.sk-estimator input.sk-toggleable__control:checked~label.sk-toggleable__label {\n",
       "  /* unfitted */\n",
       "  background-color: var(--sklearn-color-unfitted-level-2);\n",
       "}\n",
       "\n",
       "#sk-container-id-1 div.sk-estimator.fitted input.sk-toggleable__control:checked~label.sk-toggleable__label {\n",
       "  /* fitted */\n",
       "  background-color: var(--sklearn-color-fitted-level-2);\n",
       "}\n",
       "\n",
       "#sk-container-id-1 div.sk-label label.sk-toggleable__label,\n",
       "#sk-container-id-1 div.sk-label label {\n",
       "  /* The background is the default theme color */\n",
       "  color: var(--sklearn-color-text-on-default-background);\n",
       "}\n",
       "\n",
       "/* On hover, darken the color of the background */\n",
       "#sk-container-id-1 div.sk-label:hover label.sk-toggleable__label {\n",
       "  color: var(--sklearn-color-text);\n",
       "  background-color: var(--sklearn-color-unfitted-level-2);\n",
       "}\n",
       "\n",
       "/* Label box, darken color on hover, fitted */\n",
       "#sk-container-id-1 div.sk-label.fitted:hover label.sk-toggleable__label.fitted {\n",
       "  color: var(--sklearn-color-text);\n",
       "  background-color: var(--sklearn-color-fitted-level-2);\n",
       "}\n",
       "\n",
       "/* Estimator label */\n",
       "\n",
       "#sk-container-id-1 div.sk-label label {\n",
       "  font-family: monospace;\n",
       "  font-weight: bold;\n",
       "  display: inline-block;\n",
       "  line-height: 1.2em;\n",
       "}\n",
       "\n",
       "#sk-container-id-1 div.sk-label-container {\n",
       "  text-align: center;\n",
       "}\n",
       "\n",
       "/* Estimator-specific */\n",
       "#sk-container-id-1 div.sk-estimator {\n",
       "  font-family: monospace;\n",
       "  border: 1px dotted var(--sklearn-color-border-box);\n",
       "  border-radius: 0.25em;\n",
       "  box-sizing: border-box;\n",
       "  margin-bottom: 0.5em;\n",
       "  /* unfitted */\n",
       "  background-color: var(--sklearn-color-unfitted-level-0);\n",
       "}\n",
       "\n",
       "#sk-container-id-1 div.sk-estimator.fitted {\n",
       "  /* fitted */\n",
       "  background-color: var(--sklearn-color-fitted-level-0);\n",
       "}\n",
       "\n",
       "/* on hover */\n",
       "#sk-container-id-1 div.sk-estimator:hover {\n",
       "  /* unfitted */\n",
       "  background-color: var(--sklearn-color-unfitted-level-2);\n",
       "}\n",
       "\n",
       "#sk-container-id-1 div.sk-estimator.fitted:hover {\n",
       "  /* fitted */\n",
       "  background-color: var(--sklearn-color-fitted-level-2);\n",
       "}\n",
       "\n",
       "/* Specification for estimator info (e.g. \"i\" and \"?\") */\n",
       "\n",
       "/* Common style for \"i\" and \"?\" */\n",
       "\n",
       ".sk-estimator-doc-link,\n",
       "a:link.sk-estimator-doc-link,\n",
       "a:visited.sk-estimator-doc-link {\n",
       "  float: right;\n",
       "  font-size: smaller;\n",
       "  line-height: 1em;\n",
       "  font-family: monospace;\n",
       "  background-color: var(--sklearn-color-background);\n",
       "  border-radius: 1em;\n",
       "  height: 1em;\n",
       "  width: 1em;\n",
       "  text-decoration: none !important;\n",
       "  margin-left: 0.5em;\n",
       "  text-align: center;\n",
       "  /* unfitted */\n",
       "  border: var(--sklearn-color-unfitted-level-1) 1pt solid;\n",
       "  color: var(--sklearn-color-unfitted-level-1);\n",
       "}\n",
       "\n",
       ".sk-estimator-doc-link.fitted,\n",
       "a:link.sk-estimator-doc-link.fitted,\n",
       "a:visited.sk-estimator-doc-link.fitted {\n",
       "  /* fitted */\n",
       "  border: var(--sklearn-color-fitted-level-1) 1pt solid;\n",
       "  color: var(--sklearn-color-fitted-level-1);\n",
       "}\n",
       "\n",
       "/* On hover */\n",
       "div.sk-estimator:hover .sk-estimator-doc-link:hover,\n",
       ".sk-estimator-doc-link:hover,\n",
       "div.sk-label-container:hover .sk-estimator-doc-link:hover,\n",
       ".sk-estimator-doc-link:hover {\n",
       "  /* unfitted */\n",
       "  background-color: var(--sklearn-color-unfitted-level-3);\n",
       "  color: var(--sklearn-color-background);\n",
       "  text-decoration: none;\n",
       "}\n",
       "\n",
       "div.sk-estimator.fitted:hover .sk-estimator-doc-link.fitted:hover,\n",
       ".sk-estimator-doc-link.fitted:hover,\n",
       "div.sk-label-container:hover .sk-estimator-doc-link.fitted:hover,\n",
       ".sk-estimator-doc-link.fitted:hover {\n",
       "  /* fitted */\n",
       "  background-color: var(--sklearn-color-fitted-level-3);\n",
       "  color: var(--sklearn-color-background);\n",
       "  text-decoration: none;\n",
       "}\n",
       "\n",
       "/* Span, style for the box shown on hovering the info icon */\n",
       ".sk-estimator-doc-link span {\n",
       "  display: none;\n",
       "  z-index: 9999;\n",
       "  position: relative;\n",
       "  font-weight: normal;\n",
       "  right: .2ex;\n",
       "  padding: .5ex;\n",
       "  margin: .5ex;\n",
       "  width: min-content;\n",
       "  min-width: 20ex;\n",
       "  max-width: 50ex;\n",
       "  color: var(--sklearn-color-text);\n",
       "  box-shadow: 2pt 2pt 4pt #999;\n",
       "  /* unfitted */\n",
       "  background: var(--sklearn-color-unfitted-level-0);\n",
       "  border: .5pt solid var(--sklearn-color-unfitted-level-3);\n",
       "}\n",
       "\n",
       ".sk-estimator-doc-link.fitted span {\n",
       "  /* fitted */\n",
       "  background: var(--sklearn-color-fitted-level-0);\n",
       "  border: var(--sklearn-color-fitted-level-3);\n",
       "}\n",
       "\n",
       ".sk-estimator-doc-link:hover span {\n",
       "  display: block;\n",
       "}\n",
       "\n",
       "/* \"?\"-specific style due to the `<a>` HTML tag */\n",
       "\n",
       "#sk-container-id-1 a.estimator_doc_link {\n",
       "  float: right;\n",
       "  font-size: 1rem;\n",
       "  line-height: 1em;\n",
       "  font-family: monospace;\n",
       "  background-color: var(--sklearn-color-background);\n",
       "  border-radius: 1rem;\n",
       "  height: 1rem;\n",
       "  width: 1rem;\n",
       "  text-decoration: none;\n",
       "  /* unfitted */\n",
       "  color: var(--sklearn-color-unfitted-level-1);\n",
       "  border: var(--sklearn-color-unfitted-level-1) 1pt solid;\n",
       "}\n",
       "\n",
       "#sk-container-id-1 a.estimator_doc_link.fitted {\n",
       "  /* fitted */\n",
       "  border: var(--sklearn-color-fitted-level-1) 1pt solid;\n",
       "  color: var(--sklearn-color-fitted-level-1);\n",
       "}\n",
       "\n",
       "/* On hover */\n",
       "#sk-container-id-1 a.estimator_doc_link:hover {\n",
       "  /* unfitted */\n",
       "  background-color: var(--sklearn-color-unfitted-level-3);\n",
       "  color: var(--sklearn-color-background);\n",
       "  text-decoration: none;\n",
       "}\n",
       "\n",
       "#sk-container-id-1 a.estimator_doc_link.fitted:hover {\n",
       "  /* fitted */\n",
       "  background-color: var(--sklearn-color-fitted-level-3);\n",
       "}\n",
       "</style><div id=\"sk-container-id-1\" class=\"sk-top-container\"><div class=\"sk-text-repr-fallback\"><pre>GridSearchCV(cv=KFold(n_splits=10, random_state=0, shuffle=True),\n",
       "             estimator=Ridge(), n_jobs=-1,\n",
       "             param_grid={&#x27;alpha&#x27;: [1, 2, 5, 10, 15, 20, 100, 500]})</pre><b>In a Jupyter environment, please rerun this cell to show the HTML representation or trust the notebook. <br />On GitHub, the HTML representation is unable to render, please try loading this page with nbviewer.org.</b></div><div class=\"sk-container\" hidden><div class=\"sk-item sk-dashed-wrapped\"><div class=\"sk-label-container\"><div class=\"sk-label fitted sk-toggleable\"><input class=\"sk-toggleable__control sk-hidden--visually\" id=\"sk-estimator-id-1\" type=\"checkbox\" ><label for=\"sk-estimator-id-1\" class=\"sk-toggleable__label fitted sk-toggleable__label-arrow\"><div><div>GridSearchCV</div></div><div><a class=\"sk-estimator-doc-link fitted\" rel=\"noreferrer\" target=\"_blank\" href=\"https://scikit-learn.org/1.6/modules/generated/sklearn.model_selection.GridSearchCV.html\">?<span>Documentation for GridSearchCV</span></a><span class=\"sk-estimator-doc-link fitted\">i<span>Fitted</span></span></div></label><div class=\"sk-toggleable__content fitted\"><pre>GridSearchCV(cv=KFold(n_splits=10, random_state=0, shuffle=True),\n",
       "             estimator=Ridge(), n_jobs=-1,\n",
       "             param_grid={&#x27;alpha&#x27;: [1, 2, 5, 10, 15, 20, 100, 500]})</pre></div> </div></div><div class=\"sk-parallel\"><div class=\"sk-parallel-item\"><div class=\"sk-item\"><div class=\"sk-label-container\"><div class=\"sk-label fitted sk-toggleable\"><input class=\"sk-toggleable__control sk-hidden--visually\" id=\"sk-estimator-id-2\" type=\"checkbox\" ><label for=\"sk-estimator-id-2\" class=\"sk-toggleable__label fitted sk-toggleable__label-arrow\"><div><div>best_estimator_: Ridge</div></div></label><div class=\"sk-toggleable__content fitted\"><pre>Ridge(alpha=100)</pre></div> </div></div><div class=\"sk-serial\"><div class=\"sk-item\"><div class=\"sk-estimator fitted sk-toggleable\"><input class=\"sk-toggleable__control sk-hidden--visually\" id=\"sk-estimator-id-3\" type=\"checkbox\" ><label for=\"sk-estimator-id-3\" class=\"sk-toggleable__label fitted sk-toggleable__label-arrow\"><div><div>Ridge</div></div><div><a class=\"sk-estimator-doc-link fitted\" rel=\"noreferrer\" target=\"_blank\" href=\"https://scikit-learn.org/1.6/modules/generated/sklearn.linear_model.Ridge.html\">?<span>Documentation for Ridge</span></a></div></label><div class=\"sk-toggleable__content fitted\"><pre>Ridge(alpha=100)</pre></div> </div></div></div></div></div></div></div></div></div>"
      ],
      "text/plain": [
       "GridSearchCV(cv=KFold(n_splits=10, random_state=0, shuffle=True),\n",
       "             estimator=Ridge(), n_jobs=-1,\n",
       "             param_grid={'alpha': [1, 2, 5, 10, 15, 20, 100, 500]})"
      ]
     },
     "execution_count": 22,
     "metadata": {},
     "output_type": "execute_result"
    }
   ],
   "source": [
    "# your code here\n",
    "grid.fit(x_train,y_train)"
   ]
  },
  {
   "cell_type": "code",
   "execution_count": 23,
   "metadata": {
    "deletable": false,
    "editable": false,
    "nbgrader": {
     "cell_type": "code",
     "checksum": "1683a8bd7a56bfd7ab14258d1c119200",
     "grade": true,
     "grade_id": "E33-tests",
     "locked": true,
     "points": 1,
     "schema_version": 3,
     "solution": false,
     "task": false
    }
   },
   "outputs": [
    {
     "name": "stdout",
     "output_type": "stream",
     "text": [
      "¡Se ha realizado la búsqueda de hiperparámetros correctamente!\n"
     ]
    }
   ],
   "source": [
    "#---------- Celda de Pruebas ----------\n",
    "# El atributo \"best_params_\" de la variable \"grid\" existe\n",
    "# El atributo \"best_estimator_\" de la variable \"grid\" existe\n",
    "#--------------------------------------\n",
    "\n",
    "# El atributo \"best_params_\" está definido\n",
    "assert grid.best_params_ is not None, \"Asegúrate de ejecutar la función de entrenamiento para generar un diccionario con el mejor hiperparámetro.\"\n",
    "\n",
    "# El atributo \"best_estimator_\" está definido\n",
    "assert grid.best_estimator_ is not None, \"Asegúrate de ejecutar la función de entrenamiento para generar un modelo de regresión Ridge.\"\n",
    "\n",
    "# Se verifica que \"grid\" haya generado un solo mejor hiperparámetro\n",
    "assert len(grid.best_params_) == 1, \"Al ejecutar una función usando el objeto \\'grid\\', se debe generar una sola tupla con el hiperparámetro.\"\n",
    "\n",
    "# Se verifica que \"grid\" haya generado un modelo de regresión Ridge\n",
    "assert isinstance(grid.best_estimator_, Ridge), \"Al ejecutar una función usando el objeto \\'grid\\', se debe generar un modelo de regresión Ridge.\"\n",
    "print(\"¡Se ha realizado la búsqueda de hiperparámetros correctamente!\")"
   ]
  },
  {
   "cell_type": "markdown",
   "metadata": {
    "deletable": false,
    "editable": false,
    "nbgrader": {
     "cell_type": "markdown",
     "checksum": "bc98fe8b1029bcab98f8985fa1c2c427",
     "grade": false,
     "grade_id": "cell-a684d8677d88d1ea",
     "locked": true,
     "schema_version": 3,
     "solution": false,
     "task": false
    }
   },
   "source": [
    "Podemos observar el mejor hiperparámetro usando el atributo `best_params_`:"
   ]
  },
  {
   "cell_type": "code",
   "execution_count": 24,
   "metadata": {
    "deletable": false,
    "editable": false,
    "nbgrader": {
     "cell_type": "code",
     "checksum": "31ea2b75f3a2cc7c0cf67f1b247ccd8c",
     "grade": false,
     "grade_id": "cell-912d6ee76edc4b04",
     "locked": true,
     "schema_version": 3,
     "solution": false,
     "task": false
    }
   },
   "outputs": [
    {
     "name": "stdout",
     "output_type": "stream",
     "text": [
      "Mejor parámetro:  {'alpha': 100}\n"
     ]
    }
   ],
   "source": [
    "print(\"Mejor parámetro: \", grid.best_params_)"
   ]
  },
  {
   "cell_type": "markdown",
   "metadata": {
    "deletable": false,
    "editable": false,
    "nbgrader": {
     "cell_type": "markdown",
     "checksum": "f017a6aabd92c152d0fed5c089d160b8",
     "grade": false,
     "grade_id": "cell-d3813a34ed17c7a4",
     "locked": true,
     "schema_version": 3,
     "solution": false,
     "task": false
    }
   },
   "source": [
    "Además, vamos a definir la variable `mejor_modelo` para observar los coeficientes obtenidos y, posteriormente, para realizar las pruebas:"
   ]
  },
  {
   "cell_type": "code",
   "execution_count": 41,
   "metadata": {
    "deletable": false,
    "editable": false,
    "nbgrader": {
     "cell_type": "code",
     "checksum": "d30d4e5296616d82f4ac662d1a82d054",
     "grade": false,
     "grade_id": "cell-6e0105f2d12a394c",
     "locked": true,
     "schema_version": 3,
     "solution": false,
     "task": false
    }
   },
   "outputs": [
    {
     "data": {
      "text/plain": [
       "[('song_duration_ms', -0.10965427649099432),\n",
       " ('acousticness', -0.752015500008503),\n",
       " ('danceability', 0.9644505695601739),\n",
       " ('energy', -2.206215659729056),\n",
       " ('instrumentalness', -1.5809039573678472),\n",
       " ('key', 0.039618725791482984),\n",
       " ('liveness', -0.5755055448077364),\n",
       " ('loudness', 1.9304490798693879),\n",
       " ('audio_mode', 0.2651999447423507),\n",
       " ('speechiness', -0.3519316299396287),\n",
       " ('tempo', -0.2696231941231378),\n",
       " ('time_signature', 0.22063370605933358),\n",
       " ('audio_valence', -1.3545396951588164)]"
      ]
     },
     "execution_count": 41,
     "metadata": {},
     "output_type": "execute_result"
    }
   ],
   "source": [
    "mejor_modelo = grid.best_estimator_\n",
    "list(zip(x_train.columns, mejor_modelo.coef_))"
   ]
  },
  {
   "cell_type": "markdown",
   "metadata": {
    "deletable": false,
    "editable": false,
    "nbgrader": {
     "cell_type": "markdown",
     "checksum": "60c61e6af7e0a7c6954a14d0e5607d0e",
     "grade": false,
     "grade_id": "cell-a13d0ad158c3ba47",
     "locked": true,
     "schema_version": 3,
     "solution": false,
     "task": false
    }
   },
   "source": [
    "## 4. Evaluación del modelo\n",
    "\n",
    "Por último, evaluarás el modelo entrenado utilizando el conjunto de pruebas.\n",
    "\n",
    "### Ejercicio 4.1.\n",
    "\n",
    "Inicialmente, separa las variables independientes y la variable objetivo en el conjunto de pruebas. Para ello, utiliza Pandas para crear dos variables, `x_test` y `y_test`, que almacenarán las variables independientes y la variable objetivo, respectivamente.\n",
    "\n",
    "* Crea una variable con nombre `x_test` y asígnale la operación necesaria para almacenar solo las variables independientes del conjunto de pruebas. (**Ejemplo: `x_test = test.<<Función>>`**)\n",
    "* Crea una variable con nombre `y_test` y asígnale la operación necesaria para almacenar la variable objetivo del conjunto de pruebas. (**Ejemplo: `y_test = <<Consulta>>`**)"
   ]
  },
  {
   "cell_type": "code",
   "execution_count": 42,
   "metadata": {
    "deletable": false,
    "nbgrader": {
     "cell_type": "code",
     "checksum": "0e7fcda78ad34849ea4cfd21c22c043f",
     "grade": false,
     "grade_id": "E41",
     "locked": false,
     "schema_version": 3,
     "solution": true,
     "task": false
    }
   },
   "outputs": [],
   "source": [
    "# Tu respuesta deben ser dos líneas consecutivas:\n",
    "#    x_test = test.<<Función>>\n",
    "#    y_test = <<Consulta>>\n",
    "# your code here\n",
    "\n",
    "x_test = test.drop([\"song_popularity\"], axis = \"columns\")\n",
    "y_test =test[\"song_popularity\"]\n"
   ]
  },
  {
   "cell_type": "code",
   "execution_count": 43,
   "metadata": {
    "deletable": false,
    "editable": false,
    "nbgrader": {
     "cell_type": "code",
     "checksum": "9147e62d48cee73333ae49d1eccfe94b",
     "grade": true,
     "grade_id": "E41-tests",
     "locked": true,
     "points": 1,
     "schema_version": 3,
     "solution": false,
     "task": false
    }
   },
   "outputs": [
    {
     "name": "stdout",
     "output_type": "stream",
     "text": [
      "¡Los conjuntos 'x_test' y 'y_test' tienen las dimensiones correctas!\n"
     ]
    }
   ],
   "source": [
    "#---------- Celda de Pruebas ----------\n",
    "# Las variables existen\n",
    "# La variable \"x_test\" es un DataFrame\n",
    "# La variable \"y_test\" es una Serie de Pandas\n",
    "# Las variables tienen las dimensiones correctas\n",
    "#--------------------------------------\n",
    "\n",
    "# Se verifica que las variables están definidas\n",
    "assert x_test is not None, \"Asegúrate de definir la variable con el nombre correcto.\"\n",
    "assert y_test is not None, \"Asegúrate de definir la variable con el nombre correcto.\"\n",
    "\n",
    "# Se verifica que \"x_test\" sea un DataFrame\n",
    "assert isinstance(x_test, pd.DataFrame), \"El resultado debe ser un DataFrame.\"\n",
    "\n",
    "# Se verifica que \"y_test\" sea una Serie\n",
    "assert isinstance(y_test, pd.Series), \"El resultado debe ser una Serie de Pandas.\"\n",
    "\n",
    "# Se evalúan las dimensiones de las variables\n",
    "assert x_test.shape == (2986,13), \"\\'x_test\\' debe tener el mismo número de filas pero una columna menos que \\'test\\'.\"\n",
    "assert y_test.shape == (2986,), \"\\'y_test\\' solamente contiene una columna.\"\n",
    "print(\"¡Los conjuntos \\'x_test\\' y \\'y_test\\' tienen las dimensiones correctas!\")"
   ]
  },
  {
   "cell_type": "markdown",
   "metadata": {
    "deletable": false,
    "editable": false,
    "nbgrader": {
     "cell_type": "markdown",
     "checksum": "6b05cded9055892443048ecada0c25db",
     "grade": false,
     "grade_id": "cell-7b00f5ce90c5f895",
     "locked": true,
     "schema_version": 3,
     "solution": false,
     "task": false
    }
   },
   "source": [
    "### Ejercicio 4.2.\n",
    "\n",
    "Realiza la estandarización de los datos del conjunto de pruebas. Modifica el conjunto de variables independientes, `x_test`, con las operaciones necesarias para estandarizarlo. Particularmente, deberás seguir estos pasos:\n",
    "\n",
    "* Utiliza la variable `scaler` para transformar los datos de `x_test` utilizando **solamente la información del conjunto de entrenamiento**. Asigna el resultado a la misma variable, sobreescribiendo su contenido. (**Ejemplo: `x_test = scaler.<<Función>>`**)\n",
    "* Reconstruye el DataFrame de variables independientes utilizando la información almacenada en `columns`. Asigna el resultado a `x_test`. (**Ejemplo: `x_test = <<Función>>`**)"
   ]
  },
  {
   "cell_type": "code",
   "execution_count": 44,
   "metadata": {
    "deletable": false,
    "nbgrader": {
     "cell_type": "code",
     "checksum": "8207d8c364c4c9c4112412066124625b",
     "grade": false,
     "grade_id": "E42",
     "locked": false,
     "schema_version": 3,
     "solution": true,
     "task": false
    }
   },
   "outputs": [],
   "source": [
    "# your code here\n",
    "\n",
    "x_test = scaler.transform(x_test)\n",
    "x_test = pd.DataFrame(x_test, columns = columns)"
   ]
  },
  {
   "cell_type": "code",
   "execution_count": 45,
   "metadata": {
    "deletable": false,
    "editable": false,
    "nbgrader": {
     "cell_type": "code",
     "checksum": "ea03d450072f6c2c64bcc1e2ae98cf60",
     "grade": true,
     "grade_id": "E42-tests",
     "locked": true,
     "points": 1,
     "schema_version": 3,
     "solution": false,
     "task": false
    }
   },
   "outputs": [
    {
     "name": "stdout",
     "output_type": "stream",
     "text": [
      "¡'x_test' es un DataFrame con las dimensiones correctas!\n"
     ]
    }
   ],
   "source": [
    "#---------- Celda de Pruebas ----------\n",
    "# La variable \"x_test\" es un DataFrame\n",
    "# La variable tiene las dimensiones correctas\n",
    "#--------------------------------------\n",
    "\n",
    "# Se verifica que \"x_test\" sea un DataFrame\n",
    "assert isinstance(x_test, pd.DataFrame), \"El resultado debe ser un DataFrame.\"\n",
    "\n",
    "# Se evalúan las dimensiones de la variable\n",
    "assert x_test.shape == (2986,13), \"\\'x_test\\' debe mantener las mismas dimensiones, solo se modifican sus valores.\"\n",
    "print(\"¡\\'x_test\\' es un DataFrame con las dimensiones correctas!\")"
   ]
  },
  {
   "cell_type": "markdown",
   "metadata": {
    "deletable": false,
    "editable": false,
    "nbgrader": {
     "cell_type": "markdown",
     "checksum": "a57b3d17da11c3059132b58c603a32fc",
     "grade": false,
     "grade_id": "cell-d066384a2f895c3b",
     "locked": true,
     "schema_version": 3,
     "solution": false,
     "task": false
    }
   },
   "source": [
    "### Ejercicio 4.3.\n",
    "\n",
    "Con el conjunto de pruebas preparado, realiza predicciones con el fin de compararlas con los valores reales almacenados en `y_test`.\n",
    "\n",
    "* Utiliza la variable `mejor_modelo` para realizar las predicciones sobre el mejor modelo. Asigna el resultado a una variable con nombre `y_pred` (**Ejemplo: `y_pred = mejor_modelo.<<Función>>`**).\n",
    "* Encontrarás una línea solo con el nombre de la variable. Esta línea se usa para que puedas visualizar tu respuesta, por lo que siempre debe ir al final y no la debes modificar."
   ]
  },
  {
   "cell_type": "code",
   "execution_count": 47,
   "metadata": {
    "deletable": false,
    "nbgrader": {
     "cell_type": "code",
     "checksum": "70f733b5c7463f5cb2517232607a9f8b",
     "grade": false,
     "grade_id": "E43",
     "locked": false,
     "schema_version": 3,
     "solution": true,
     "task": false
    }
   },
   "outputs": [],
   "source": [
    "# your code here\n",
    "\n",
    "y_pred = mejor_modelo.predict(x_test)"
   ]
  },
  {
   "cell_type": "code",
   "execution_count": 48,
   "metadata": {
    "deletable": false,
    "editable": false,
    "nbgrader": {
     "cell_type": "code",
     "checksum": "126ea1e7484b772031e473609037adb8",
     "grade": true,
     "grade_id": "E43-tests",
     "locked": true,
     "points": 1,
     "schema_version": 3,
     "solution": false,
     "task": false
    }
   },
   "outputs": [
    {
     "name": "stdout",
     "output_type": "stream",
     "text": [
      "¡'y_pred' es un arreglo con las dimensiones correctas!\n"
     ]
    }
   ],
   "source": [
    "#---------- Celda de Pruebas ----------\n",
    "# La variable \"y_pred\" existe\n",
    "# La variable \"y_pred\" es un arreglo\n",
    "# La variable \"y_pred\" tiene las dimensiones correctas\n",
    "#--------------------------------------\n",
    "\n",
    "# Se verifica que \"y_pred\" está definida\n",
    "assert y_pred is not None, \"Asegúrate de definir la variable con el nombre correcto.\"\n",
    "\n",
    "# Se verifica que \"y_pred\" sea un arreglo\n",
    "assert isinstance(y_pred, np.ndarray), \"El resultado debe ser un Arreglo de Numpy.\"\n",
    "\n",
    "# Se evalúan las dimensiones de \"y_pred\"\n",
    "assert y_pred.shape == (2986,), \"\\'y_pred\\' debe tener el mismo número de filas (predicciones) que \\'x_test\\' y \\'y_test\\'.\"\n",
    "print(\"¡\\'y_pred\\' es un arreglo con las dimensiones correctas!\")"
   ]
  },
  {
   "cell_type": "markdown",
   "metadata": {
    "deletable": false,
    "editable": false,
    "nbgrader": {
     "cell_type": "markdown",
     "checksum": "1801c1d9c23484f7cb4415afcd9cacf7",
     "grade": false,
     "grade_id": "cell-a18ce6153d3e185a",
     "locked": true,
     "schema_version": 3,
     "solution": false,
     "task": false
    }
   },
   "source": [
    "### Ejercicio 4.4.\n",
    "\n",
    "Finalmente, obtén tres métricas de rendimiento utilizando las predicciones del modelo.\n",
    "\n",
    "#### Ejercicio 4.4.1.\n",
    "\n",
    "Utiliza `scikit-learn` para obtener la Raíz del Error Cuadrático Medio (RMSE).\n",
    "\n",
    "* Define una variable con el nombre `rmse` y asígnale la función necesaria para obtener el RMSE (`rmse = <<Función>>`).\n",
    "* Encontrarás una línea que mostrará tu resultado. Esta línea debe ir al final y no la debes modificar."
   ]
  },
  {
   "cell_type": "code",
   "execution_count": 49,
   "metadata": {
    "deletable": false,
    "nbgrader": {
     "cell_type": "code",
     "checksum": "aaee0172fe18b45923e7ddb183809810",
     "grade": false,
     "grade_id": "E441",
     "locked": false,
     "schema_version": 3,
     "solution": true,
     "task": false
    }
   },
   "outputs": [
    {
     "name": "stdout",
     "output_type": "stream",
     "text": [
      "RMSE:  20.283129825346048\n"
     ]
    }
   ],
   "source": [
    "# your code here\n",
    "rmse = root_mean_squared_error(y_test, y_pred)\n",
    "print(\"RMSE: \", rmse)"
   ]
  },
  {
   "cell_type": "code",
   "execution_count": null,
   "metadata": {
    "deletable": false,
    "editable": false,
    "nbgrader": {
     "cell_type": "code",
     "checksum": "41e404f08bfbf40329c4b968eb5e3046",
     "grade": true,
     "grade_id": "E441-tests",
     "locked": true,
     "points": 1,
     "schema_version": 3,
     "solution": false,
     "task": false
    }
   },
   "outputs": [],
   "source": [
    "#---------- Celda de Pruebas ----------\n",
    "# La variable \"rmse\" existe\n",
    "# La variable \"rmse\" es un número\n",
    "# La variable \"rmse\" tiene un valor válido\n",
    "#--------------------------------------\n",
    "\n",
    "# Se verifica que \"rmse\" está definida\n",
    "assert rmse is not None, \"Asegúrate de definir la variable con el nombre correcto.\"\n",
    "\n",
    "# Se verifica que \"rmse\" sea un número\n",
    "assert isinstance(rmse, np.float64) or isinstance(rmse, float), \"El resultado debe ser un número decimal.\"\n",
    "\n",
    "# Se verifica que \"rmse\" tiene un valor válido\n",
    "assert rmse >= 0, \"\\'rmse\\' debe tener un valor positivo.\"\n",
    "print(\"¡\\'rmse\\' es un número válido!\")"
   ]
  },
  {
   "cell_type": "markdown",
   "metadata": {
    "deletable": false,
    "editable": false,
    "nbgrader": {
     "cell_type": "markdown",
     "checksum": "ae18a2e0e7da869fb51c40c8c3caf085",
     "grade": false,
     "grade_id": "cell-f5a230b5acc2800b",
     "locked": true,
     "schema_version": 3,
     "solution": false,
     "task": false
    }
   },
   "source": [
    "#### Ejercicio 4.4.2.\n",
    "\n",
    "Utiliza `scikit-learn` para obtener el Error Absoluto Medio (MAE).\n",
    "\n",
    "* Define una variable con el nombre `mae` y asígnale la función necesaria para obtener el MAE (`mae = <<Función>>`).\n",
    "* Encontrarás una línea que mostrará tu resultado. Esta línea debe ir al final y no la debes modificar."
   ]
  },
  {
   "cell_type": "code",
   "execution_count": 50,
   "metadata": {
    "deletable": false,
    "nbgrader": {
     "cell_type": "code",
     "checksum": "f92aa5abfe0fd3ec356df7629f2ee349",
     "grade": false,
     "grade_id": "E442",
     "locked": false,
     "schema_version": 3,
     "solution": true,
     "task": false
    }
   },
   "outputs": [
    {
     "name": "stdout",
     "output_type": "stream",
     "text": [
      "MAE:  16.28061587807317\n"
     ]
    }
   ],
   "source": [
    "# your code here\n",
    "mae = mean_absolute_error(y_test, y_pred)\n",
    "print(\"MAE: \", mae)"
   ]
  },
  {
   "cell_type": "code",
   "execution_count": null,
   "metadata": {
    "deletable": false,
    "editable": false,
    "nbgrader": {
     "cell_type": "code",
     "checksum": "af257f9749036699d360e97d7397b8b5",
     "grade": true,
     "grade_id": "E442-tests",
     "locked": true,
     "points": 1,
     "schema_version": 3,
     "solution": false,
     "task": false
    }
   },
   "outputs": [],
   "source": [
    "#---------- Celda de Pruebas ----------\n",
    "# La variable \"mae\" existe\n",
    "# La variable \"mae\" es un número\n",
    "# La variable \"mae\" tiene un valor válido\n",
    "#--------------------------------------\n",
    "\n",
    "# Se verifica que \"mae\" está definida\n",
    "assert mae is not None, \"Asegúrate de definir la variable con el nombre correcto.\"\n",
    "\n",
    "# Se verifica que \"mae\" sea un número\n",
    "assert isinstance(mae, np.float64) or isinstance(mae, float), \"El resultado debe ser un número decimal.\"\n",
    "\n",
    "# Se verifica que \"mae\" tiene un valor válido\n",
    "assert mae >= 0, \"\\'mae\\' debe tener un valor positivo.\"\n",
    "print(\"¡\\'mae\\' es un número válido!\")"
   ]
  },
  {
   "cell_type": "markdown",
   "metadata": {
    "deletable": false,
    "editable": false,
    "nbgrader": {
     "cell_type": "markdown",
     "checksum": "ac7b80127332fcdff3d926dbaeadc43d",
     "grade": false,
     "grade_id": "cell-589d0d11f2287ac0",
     "locked": true,
     "schema_version": 3,
     "solution": false,
     "task": false
    }
   },
   "source": [
    "#### Ejercicio 4.4.3.\n",
    "\n",
    "Utiliza `scikit-learn` para obtener el Coeficiente de determinación (R<sup>2</sup>).\n",
    "\n",
    "* Define una variable con el nombre `r2` y asígnale la función necesaria para obtener el R<sup>2</sup> (`r2 = <<Función>>`).\n",
    "* Encontrarás una línea que mostrará tu resultado. Esta línea debe ir al final y no la debes modificar."
   ]
  },
  {
   "cell_type": "code",
   "execution_count": 52,
   "metadata": {
    "deletable": false,
    "nbgrader": {
     "cell_type": "code",
     "checksum": "7ec2eaac766b7ce4e51ae3a598df2ef9",
     "grade": false,
     "grade_id": "E443",
     "locked": false,
     "schema_version": 3,
     "solution": true,
     "task": false
    }
   },
   "outputs": [
    {
     "name": "stdout",
     "output_type": "stream",
     "text": [
      "R²:  0.02573971210039072\n"
     ]
    }
   ],
   "source": [
    "# your code here\n",
    "r2 = r2_score(y_test, y_pred)\n",
    "print('R²: ', r2)"
   ]
  },
  {
   "cell_type": "code",
   "execution_count": 53,
   "metadata": {
    "deletable": false,
    "editable": false,
    "nbgrader": {
     "cell_type": "code",
     "checksum": "de7781b84aceef58cb41b171dfb64d82",
     "grade": true,
     "grade_id": "E443-tests",
     "locked": true,
     "points": 1,
     "schema_version": 3,
     "solution": false,
     "task": false
    }
   },
   "outputs": [
    {
     "name": "stdout",
     "output_type": "stream",
     "text": [
      "¡'r2' es un número válido!\n"
     ]
    }
   ],
   "source": [
    "#---------- Celda de Pruebas ----------\n",
    "# La variable \"r2\" existe\n",
    "# La variable \"r2\" es un número\n",
    "# La variable \"r2\" tiene un valor válido\n",
    "#--------------------------------------\n",
    "\n",
    "# Se verifica que \"r2\" está definida\n",
    "assert r2 is not None, \"Asegúrate de definir la variable con el nombre correcto.\"\n",
    "\n",
    "# Se verifica que \"r2\" sea un número\n",
    "assert isinstance(r2, np.float64) or isinstance(r2, float), \"El resultado debe ser un número decimal.\"\n",
    "\n",
    "# Se verifica que \"r2\" está en el rango correcto\n",
    "assert r2 >= 0 and r2 <= 1, \"El resultado debe estar entre 0 y 1.\"\n",
    "\n",
    "print(\"¡\\'r2\\' es un número válido!\")"
   ]
  },
  {
   "cell_type": "markdown",
   "metadata": {
    "deletable": false,
    "editable": false,
    "nbgrader": {
     "cell_type": "markdown",
     "checksum": "c10edea4a83e5ec0c0dcf5df33a6546a",
     "grade": false,
     "grade_id": "cell-ac411d7133343500",
     "locked": true,
     "schema_version": 3,
     "solution": false,
     "task": false
    }
   },
   "source": [
    "## Cierre\n",
    "\n",
    "Al desarrollar los ejercicios de este taller, has practicado tus capacidades para realizar una búsqueda exhaustiva de hiperparámetros y generar un modelo de regresión Ridge utilizando el mejor valor obtenido. Adicionalmente, realizaste predicciones con el modelo resultante y calculaste tres métricas de rendimiento sobre los resultados.\n",
    "\n",
    "---\n",
    "*Creado por: Nicolás Díaz*\n",
    "\n",
    "*Última edición: Camilo Rozo*\n",
    "\n",
    "*Revisado por: Haydemar Nuñez*\n",
    "\n",
    "*Versión: Enero 2025*  \n",
    "\n",
    "*Universidad de los Andes* "
   ]
  }
 ],
 "metadata": {
  "kernelspec": {
   "display_name": "Python 3 (ipykernel)",
   "language": "python",
   "name": "python3"
  },
  "language_info": {
   "codemirror_mode": {
    "name": "ipython",
    "version": 3
   },
   "file_extension": ".py",
   "mimetype": "text/x-python",
   "name": "python",
   "nbconvert_exporter": "python",
   "pygments_lexer": "ipython3",
   "version": "3.10.6"
  }
 },
 "nbformat": 4,
 "nbformat_minor": 2
}
